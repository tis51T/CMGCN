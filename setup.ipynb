{
 "cells": [
  {
   "cell_type": "markdown",
   "id": "42ef89df",
   "metadata": {},
   "source": [
    "Set up BERT Model"
   ]
  },
  {
   "cell_type": "code",
   "execution_count": 2,
   "id": "fada949f",
   "metadata": {},
   "outputs": [],
   "source": [
    "from transformers import BertModel, BertTokenizer\n",
    "import os\n",
    "\n",
    "# Create directory\n",
    "target_dir = './bert_base_uncased'\n",
    "os.makedirs(target_dir, exist_ok=True)\n",
    "\n",
    "# Download model + tokenizer\n",
    "tokenizer = BertTokenizer.from_pretrained('bert-base-uncased')\n",
    "model = BertModel.from_pretrained('bert-base-uncased')\n",
    "\n",
    "# Save locally\n",
    "tokenizer.save_pretrained(target_dir)\n",
    "model.save_pretrained(target_dir)\n"
   ]
  },
  {
   "cell_type": "markdown",
   "id": "64bd4872",
   "metadata": {},
   "source": [
    "ViT"
   ]
  },
  {
   "cell_type": "code",
   "execution_count": 3,
   "id": "e407dcad",
   "metadata": {},
   "outputs": [
    {
     "data": {
      "application/vnd.jupyter.widget-view+json": {
       "model_id": "33986ea684ed48069040411635af680a",
       "version_major": 2,
       "version_minor": 0
      },
      "text/plain": [
       "preprocessor_config.json:   0%|          | 0.00/160 [00:00<?, ?B/s]"
      ]
     },
     "metadata": {},
     "output_type": "display_data"
    },
    {
     "name": "stderr",
     "output_type": "stream",
     "text": [
      "d:\\gitbuh\\gitbuh_env\\Lib\\site-packages\\transformers\\models\\vit\\feature_extraction_vit.py:28: FutureWarning: The class ViTFeatureExtractor is deprecated and will be removed in version 5 of Transformers. Please use ViTImageProcessor instead.\n",
      "  warnings.warn(\n"
     ]
    },
    {
     "data": {
      "application/vnd.jupyter.widget-view+json": {
       "model_id": "d1a7b06672014e7faa07c0beb02e4c08",
       "version_major": 2,
       "version_minor": 0
      },
      "text/plain": [
       "config.json:   0%|          | 0.00/502 [00:00<?, ?B/s]"
      ]
     },
     "metadata": {},
     "output_type": "display_data"
    },
    {
     "data": {
      "application/vnd.jupyter.widget-view+json": {
       "model_id": "23c448f1420241a18f677975c97e67bb",
       "version_major": 2,
       "version_minor": 0
      },
      "text/plain": [
       "model.safetensors:   0%|          | 0.00/346M [00:00<?, ?B/s]"
      ]
     },
     "metadata": {},
     "output_type": "display_data"
    }
   ],
   "source": [
    "from transformers import ViTFeatureExtractor, ViTModel\n",
    "\n",
    "feature_extractor = ViTFeatureExtractor.from_pretrained('google/vit-base-patch16-224-in21k')\n",
    "model = ViTModel.from_pretrained('google/vit-base-patch16-224-in21k')\n",
    "\n",
    "# Optional: Save for offline use\n",
    "feature_extractor.save_pretrained('./vit_model')\n",
    "model.save_pretrained('./vit_model')\n"
   ]
  },
  {
   "cell_type": "code",
   "execution_count": null,
   "id": "eb7edb50",
   "metadata": {},
   "outputs": [],
   "source": []
  }
 ],
 "metadata": {
  "kernelspec": {
   "display_name": "gitbuh_env",
   "language": "python",
   "name": "python3"
  },
  "language_info": {
   "codemirror_mode": {
    "name": "ipython",
    "version": 3
   },
   "file_extension": ".py",
   "mimetype": "text/x-python",
   "name": "python",
   "nbconvert_exporter": "python",
   "pygments_lexer": "ipython3",
   "version": "3.11.6"
  }
 },
 "nbformat": 4,
 "nbformat_minor": 5
}
